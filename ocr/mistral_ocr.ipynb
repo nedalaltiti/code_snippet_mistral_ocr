{
  "nbformat": 4,
  "nbformat_minor": 0,
  "metadata": {
    "colab": {
      "provenance": []
    },
    "kernelspec": {
      "name": "python3",
      "display_name": "Python 3"
    },
    "language_info": {
      "name": "python"
    }
  },
  "cells": [
    {
      "cell_type": "markdown",
      "source": [
        "# Extract Content from PDF"
      ],
      "metadata": {
        "id": "gNnL-EO1tRlT"
      }
    },
    {
      "cell_type": "code",
      "source": [
        "# !pip install mistralai"
      ],
      "metadata": {
        "id": "9hCPoBcohIOm"
      },
      "execution_count": 22,
      "outputs": []
    },
    {
      "cell_type": "code",
      "execution_count": 23,
      "metadata": {
        "id": "9hhumQGEgvvI"
      },
      "outputs": [],
      "source": [
        "import re\n",
        "import json\n",
        "import pandas as pd\n",
        "from mistralai import Mistral\n",
        "# THE LINK OF THE PAPER = https://drive.google.com/file/d/1yxt6mz-vjiogkVmhKHd_oz8_3KUWUask/view?usp=drive_link\n",
        "# File URL to extract\n",
        "FILE_URL = \"https://drive.google.com/uc?export=download&id=1yxt6mz-vjiogkVmhKHd_oz8_3KUWUask\"\n",
        "\n",
        "api_key = 'uv2dxemD0Bj4Gk3kFDnqmwQFUHl7nLAg'\n",
        "client = Mistral(api_key=api_key)\n",
        "\n",
        "ocr_response = client.ocr.process(\n",
        "    model=\"mistral-ocr-latest\",\n",
        "    document={\n",
        "        \"type\": \"document_url\",\n",
        "        \"document_url\": FILE_URL\n",
        "    },\n",
        "    include_image_base64=True\n",
        ")\n"
      ]
    },
    {
      "cell_type": "code",
      "source": [
        "print(ocr_response.pages[3].markdown)"
      ],
      "metadata": {
        "colab": {
          "base_uri": "https://localhost:8080/"
        },
        "id": "dJ1odxVEsA-4",
        "outputId": "9a2e8429-0868-40e3-c198-5dc9027d6f75"
      },
      "execution_count": 20,
      "outputs": [
        {
          "output_type": "stream",
          "name": "stdout",
          "text": [
            "Table 1\n",
            "sMAPE and sMAPC for one- to six-step-ahead eta forecasts for example time series across the different forecasting origins used to generate Fig. 1 (i.e., the updating scenario) and the scenario in which forecasts are not updated and only the forecasts made at the first and last forecasting origins are considered.\n",
            "\n",
            "|  | Horizon $h$ | 1 | 2 | 3 | 4 | 5 | 6 | Overall |\n",
            "| :--: | :--: | :--: | :--: | :--: | :--: | :--: | :--: | :--: |\n",
            "| Updating | sMAPE | 3.63 | 7.60 | 11.39 | 14.12 | 14.45 | 13.89 | 10.85 |\n",
            "|  | sMAPC | 3.55 | 3.82 | 4.03 | 4.20 | 4.34 | $-$ | 3.99 |\n",
            "| No updating | sMAPE | 3.08 | 8.02 | 13.92 | 17.61 | 17.45 | 17.82 | 12.98 |\n",
            "|  | sMAPC | 0.00 | 0.00 | 0.00 | 0.00 | 0.00 | $-$ | 0.00 |\n",
            "\n",
            "sMAPC across one- to $h$-step-ahead forecasts is obtained as:\n",
            "$\\mathrm{sMAPC}=\\frac{200}{(h-1)} \\sum_{t=1}^{h-1} \\frac{\\left|\\hat{y}_{t+i|t}-\\hat{y}_{t+i|t-1}\\right|}{\\left|\\hat{y}_{t+i|t}\\right|+\\left|\\hat{y}_{t+i|t-1}\\right|}$.\n",
            "The difference between the sMAPC and the sMAPE is that the former compares forecasts to forecasts whereas the latter compares forecasts to observed values. While the sMAPC is defined here in terms of two adjacent forecasting origins, $t-1$ and $t$, it can also be calculated for pairs of nonadjacent forecasting origins. In this work, however, we only consider pairs of adjacent forecasting origins to quantify instability. The instability across different pairs of forecasting origins can be obtained by averaging their corresponding sMAPC values. From the forecasts shown in Fig. 1, an sMAPC of 3.99 is obtained. The second row in Table 1 shows that forecast instability also increases with increasing forecast horizon. In other words, the size by which a longer-horizon forecast changes due to forecast updating is larger on average compared to changes in shorter-horizon forecasts.\n",
            "\n",
            "In the above example, updating forecasts thus results in both benefits and costs caused by more accurate forecasts and induced forecast instability, respectively, with an sMAPE of 10.85 and an sMAPC of 3.99 across forecast horizons. Comparing these values with a scenario in which we do not update the forecasts, i.e., in which we rely on the forecasts produced at time $t=130$ and 136, irrespective of the period we are in, illustrates the possible tradeoff between forecast accuracy and forecast stability: as shown in the bottom two rows in Table 1, for these two forecasting origins, the sMAPE and sMAPC are equal to 12.98 and 0 , respectively. If forecasts are not updated, we do not incur any additional costs due to induced forecast instability; however, we also cannot benefit from potential improvements in forecast accuracy. Finding a good balance between forecast accuracy and forecast stability by approaching this problem as a tradeoff requires full quantification of their associated costs and benefits, which is often difficult in practice (as is the case for the provided examples of macroeconomic forecasting and demand forecasting for supply chain planning). However, the application of forecast updating in practice implicitly assumes that the induced costs are outweighed by the benefits for the forecasting problem at hand. Therefore, in this paper, we do not approach the relation between forecast accuracy and forecast stability from a tradeoff perspective, but instead focus on assessing whether we can improve forecast stability while maintaining forecast accuracy.\n",
            "\n",
            "## 3. A methodology to improve forecast stability using deep learning\n",
            "\n",
            "In this section, we propose a methodology to improve forecast stability using deep learning. To this end, we build on N-BEATS, a deep learning architecture proposed by Oreshkin et al. (2020) for the univariate time series point forecasting problem. Therefore, we first briefly explain the original N-BEATS architecture.\n",
            "\n",
            "### 3.1. Original N-BEATS architecture\n",
            "\n",
            "Oreshkin et al. (2020) demonstrate the state-of-the-art performance of N-BEATS for all the data sets considered in their study, including the M3 and M4 data sets, and for both configurations of the model presented: a generic and an interpretable configuration. While the interpretable configuration relies on time-series-specific components (trend and seasonality) to achieve interpretability without considerable loss in accuracy, the generic configuration does not and can therefore be considered a pure deep learning model. The state-of-the-art performance of the generic model suggests that pure deep learning models can compete with and even outperform hybrid methods such as the best-performing method in M4 (Smyl, 2020) that combines recurrent neural networks with exponential smoothing. In this paper, we therefore focus on the generic configuration. Below, we briefly discuss this generic N-BEATS architecture.\n",
            "\n",
            "N-BEATS takes as input a vector of $T$ historical observations, also referred to as the lookback window, $\\mathbf{x}_{T \\mid t} \\in$ $\\mathbb{R}^{T}=\\left[y_{t-T+1}, \\ldots, y_{t}\\right]$ with length $T \\leq t$ and forecasting origin $t$ and outputs a prediction $\\hat{\\mathbf{y}}_{h \\mid t} \\in \\mathbb{R}^{h}=\\left[\\hat{y}_{t+1 \\mid t}\\right.$, $\\left.\\ldots, \\hat{y}_{t+h \\mid t}\\right]$ for the vector $\\mathbf{y}_{h \\mid t} \\in \\mathbb{R}^{h}=\\left[y_{t+1}, \\ldots, y_{t+h}\\right]$ which comprises the next $h$ observations. The length $T$ of the lookback window $\\mathbf{x}_{T \\mid t}$ is set to a multiple of the forecast horizon $h$, with lengths ranging from $2 h$ to $7 h$ in Oreshkin et al. (2020). The generic N-BEATS architecture, visualized in Fig. 2, is composed of multiple sequentially connected processing blocks $k=1, \\ldots, K$, with the number of blocks $K$ being a hyperparameter. Each block $k$ takes $\\mathbf{x}_{T \\mid t}^{(k)}$ as input to produce both a partial forecast $\\hat{\\mathbf{y}}_{h \\mid t}^{(k)}$ and a backcast $\\hat{\\mathbf{x}}_{T \\mid t}^{(k)}$ by going through a stack of four fully connected layers with ReLu nonlinearity and a single taskspecific layer for each block output, i.e., the backcast and (partial) forecast. The difference between the block input $\\mathbf{x}_{T \\mid t}^{(k)}$ and the backcast $\\hat{\\mathbf{x}}_{T \\mid t}^{(k)}$ forms the input of the next block in the network (with $\\mathbf{x}_{T \\mid t}^{(1)}=\\mathbf{x}_{T \\mid t}$ ). The final forecast $\\hat{\\mathbf{y}}_{h \\mid t}$ is the sum of the (partial) block forecasts. The authors refer to this topology as doubly residual stacking:\n",
            "$\\mathbf{x}_{T \\mid t}^{(k)}=\\mathbf{x}_{T \\mid t}^{(k-1)}-\\hat{\\mathbf{x}}_{T \\mid t}^{(k-1)}$,\n"
          ]
        }
      ]
    },
    {
      "cell_type": "markdown",
      "source": [
        "# Document Understanding"
      ],
      "metadata": {
        "id": "dAmrV16vtHwn"
      }
    },
    {
      "cell_type": "code",
      "source": [
        "from mistralai import Mistral\n",
        "\n",
        "# Specify model\n",
        "model = \"pixtral-12b-2409\"\n",
        "\n",
        "# Initialize the Mistral client\n",
        "client = Mistral(api_key=api_key)\n",
        "\n",
        "text_query = \"\"\"\n",
        "    Give me Breakup of SMAPE and SMAPC.\n",
        "    give me each table as dictoinary where column name is key and value is the values.\n",
        "    So it can be ready to convert to a pandas dataframe.\n",
        "    Please only return the data, I don't want anything additional.\n",
        "    Please add <START_TABLE> tag and </START_TABLE> tag so it's easier for me to use\"\"\"\n",
        "\n",
        "# Define the messages for the chat\n",
        "messages = [\n",
        "    {\n",
        "        \"role\": \"user\",\n",
        "        \"content\": [\n",
        "            {\n",
        "                \"type\": \"text\",\n",
        "                \"text\": text_query\n",
        "            },\n",
        "            {\n",
        "                \"type\": \"document_url\",\n",
        "                \"document_url\": FILE_URL,\n",
        "            }\n",
        "        ]\n",
        "    }\n",
        "]\n",
        "\n",
        "# Get the chat response\n",
        "chat_response = client.chat.complete(\n",
        "    model=model,\n",
        "    messages=messages\n",
        ")\n",
        "\n",
        "# Print the content of the response\n",
        "response = chat_response.choices[0].message.content\n",
        "print(response)"
      ],
      "metadata": {
        "colab": {
          "base_uri": "https://localhost:8080/"
        },
        "id": "ngK5kw9WsBBd",
        "outputId": "ab4855e7-72f0-493d-8125-3561308fba02"
      },
      "execution_count": 21,
      "outputs": [
        {
          "output_type": "stream",
          "name": "stdout",
          "text": [
            "```json\n",
            "<START_TABLE>\n",
            "{\n",
            "  \"Table 1\": {\n",
            "    \"Horizon h\": [1, 2, 3, 4, 5, 6, \"Overall\"],\n",
            "    \"Updating\": {\n",
            "      \"sMAPE\": [3.63, 7.60, 11.39, 14.12, 14.45, 13.89, 10.85],\n",
            "      \"sMAPC\": [3.55, 3.82, 4.03, 4.20, 4.34, \"-\", 3.99]\n",
            "    },\n",
            "    \"No updating\": {\n",
            "      \"sMAPE\": [3.08, 8.02, 13.92, 17.61, 17.45, 17.82, 12.98],\n",
            "      \"sMAPC\": [0.00, 0.00, 0.00, 0.00, 0.00, \"-\", 0.00]\n",
            "    }\n",
            "  }\n",
            "}\n",
            "</START_TABLE>\n",
            "\n",
            "<START_TABLE>\n",
            "{\n",
            "  \"Table 4\": {\n",
            "    \"Yearly\": {\n",
            "      \"sMAPE\": [10.81, 10.93, \"-\", 10.78, 11.36, 10.85, 11.19, 10.79, 11.42, 11.30, 11.29, 11.25],\n",
            "      \"sMAPC\": [8.42, 8.22, \"-\", 8.25, 4.18, 7.93, 7.25, 7.78, 3.94, 8.09, 9.11, 7.35]\n",
            "    },\n",
            "    \"Quarterly\": {\n",
            "      \"sMAPE\": [7.34, 7.34, \"-\", 7.25, 7.74, 7.37, \"-\", 7.33, 7.78, 7.04, 7.29, 7.00],\n",
            "      \"sMAPC\": [4.01, 3.82, \"-\", 3.81, 1.79, 3.61, \"-\", 3.61, 1.63, 4.07, 4.31, 3.87]\n",
            "    },\n",
            "    \"Monthly\": {\n",
            "      \"sMAPE\": [11.45, 11.47, \"-\", 11.39, 11.59, 11.38, 11.41, 11.36, 11.59, 11.34, 11.70, 11.28],\n",
            "      \"sMAPC\": [3.67, 3.59, \"-\", 3.72, 1.30, 2.62, 2.57, 2.22, 1.01, 3.21, 3.16, 2.96]\n",
            "    },\n",
            "    \"Other\": {\n",
            "      \"sMAPE\": [2.73, \"-\", 2.68, 2.73, 2.87, 2.73, \"-\", 2.69, 2.88, 2.59, 2.59, 2.59],\n",
            "      \"sMAPC\": [2.51, \"-\", 2.39, 2.26, 1.33, 2.26, \"-\", 2.13, 1.20, 1.88, 2.11, 1.84]\n",
            "    }\n",
            "  }\n",
            "}\n",
            "</START_TABLE>\n",
            "\n",
            "<START_TABLE>\n",
            "{\n",
            "  \"Table 5\": {\n",
            "    \"Yearly\": {\n",
            "      \"sMAPE\": [8.14, \"-\", 8.13, 8.06, 8.13, 8.13, 8.70, 8.77, 8.72, 8.70, 8.72, 8.72],\n",
            "      \"sMAPC\": [7.99, \"-\", 7.54, 7.86, 7.54, 7.54, 7.07, 7.71, 6.38, 7.07, 7.71, 6.38]\n",
            "    },\n",
            "    \"Quarterly\": {\n",
            "      \"sMAPE\": [7.81, 7.80, 7.83, 7.74, 7.83, 8.18, 8.07, 8.22, 8.13, 8.07, 8.22, 8.13],\n",
            "      \"sMAPC\": [4.31, 4.27, 3.61, 4.18, 3.61, 1.80, 4.37, 4.49, 4.12, 4.37, 4.49, 4.12]\n",
            "    },\n",
            "    \"Monthly\": {\n",
            "      \"sMAPE\": [9.11, 9.12, 9.11, 8.95, 9.11, 9.63, 9.98, 9.78, 10.07, 9.98, 9.78, 10.07],\n",
            "      \"sMAPC\": [3.83, 3.80, 2.83, 3.51, 2.83, 1.32, 4.37, 4.15, 3.80, 4.37, 4.15, 3.80]\n",
            "    },\n",
            "    \"Weekly\": {\n",
            "      \"sMAPE\": [6.63, \"-\", 6.56, 6.45, 6.56, 6.81, 6.51, 6.37, 6.79, 6.51, 6.37, 6.79],\n",
            "      \"sMAPC\": [4.28, \"-\", 3.17, 4.04, 3.17, 1.65, 3.26, 3.06, 3.29, 3.26, 3.06, 3.29]\n",
            "    },\n",
            "    \"Daily\": {\n",
            "      \"sMAPE\": [2.07, \"-\", 2.10, 2.08, 2.10, 2.31, 2.15, 2.21, 2.09, 2.15, 2.21, 2.09],\n",
            "      \"sMAPC\": [0.87, \"-\", 0.81, 0.83, 0.81, 0.34, 1.12, 1.18, 0.94, 1.12, 1.18, 0.94]\n",
            "    },\n",
            "    \"Hourly\": {\n",
            "      \"sMAPE\": [9.26, 9.05, \"-\", 9.05, 9.02, 8.86, 14.96, 26.89, 14.71, 14.96, 26.89, 14.71],\n",
            "      \"sMAPC\": [3.76, 3.53, \"-\", 3.53, 0.67, 0.55, 6.53, 6.63, 5.63, 6.53, 6.63, 5.63]\n",
            "    }\n",
            "  }\n",
            "}\n",
            "</START_TABLE>\n",
            "```\n"
          ]
        }
      ]
    }
  ]
}